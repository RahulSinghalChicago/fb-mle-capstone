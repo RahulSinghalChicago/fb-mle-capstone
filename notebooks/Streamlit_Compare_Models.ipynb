{
  "nbformat": 4,
  "nbformat_minor": 0,
  "metadata": {
    "colab": {
      "name": "Streamlit Compare Models",
      "provenance": [],
      "collapsed_sections": [],
      "mount_file_id": "1cvpM_aUsjHLXTnoht-uckNWQOMOqO-IU",
      "authorship_tag": "ABX9TyOrG/cyHqP9RylF0z6uoKDJ",
      "include_colab_link": true
    },
    "kernelspec": {
      "name": "python3",
      "display_name": "Python 3"
    },
    "language_info": {
      "name": "python"
    }
  },
  "cells": [
    {
      "cell_type": "markdown",
      "metadata": {
        "id": "view-in-github",
        "colab_type": "text"
      },
      "source": [
        "<a href=\"https://colab.research.google.com/github/RahulSinghalChicago/fb-mle-capstone/blob/main/notebooks/Streamlit_Compare_Models.ipynb\" target=\"_parent\"><img src=\"https://colab.research.google.com/assets/colab-badge.svg\" alt=\"Open In Colab\"/></a>"
      ]
    },
    {
      "cell_type": "markdown",
      "metadata": {
        "id": "EAr7-6DK-XgG"
      },
      "source": [
        "Connect to Drive and move the deploy directory in CAP-CV on Rahul's account or your local. deploy needs a data folder and a models folder. copy the compare-models.py the deploy folder if you're using your own."
      ]
    },
    {
      "cell_type": "code",
      "metadata": {
        "colab": {
          "base_uri": "https://localhost:8080/"
        },
        "id": "R00Gf8V8y9G9",
        "outputId": "6c17497b-ebba-4527-ba79-8042b927662e"
      },
      "source": [
        "%cd /content/drive/MyDrive/4BAI/CAP-CV/deploy"
      ],
      "execution_count": 12,
      "outputs": [
        {
          "output_type": "stream",
          "name": "stdout",
          "text": [
            "/content/drive/MyDrive/4BAI/CAP-CV/deploy\n"
          ]
        }
      ]
    },
    {
      "cell_type": "markdown",
      "metadata": {
        "id": "A6e4S5gP-ypf"
      },
      "source": [
        ""
      ]
    },
    {
      "cell_type": "code",
      "metadata": {
        "id": "7-4L4wPUUNic"
      },
      "source": [
        "!pip install streamlit -q"
      ],
      "execution_count": 2,
      "outputs": []
    },
    {
      "cell_type": "code",
      "metadata": {
        "id": "9jS-LWQS0u41"
      },
      "source": [
        "!pip3 install Keras --user --quiet"
      ],
      "execution_count": 20,
      "outputs": []
    },
    {
      "cell_type": "code",
      "metadata": {
        "colab": {
          "base_uri": "https://localhost:8080/"
        },
        "id": "wh0FqrXZU040",
        "outputId": "65728428-1b3d-49fc-a1db-271dd6022c77"
      },
      "source": [
        "!wget https://bin.equinox.io/c/4VmDzA7iaHb/ngrok-stable-linux-amd64.zip\n",
        "!unzip ngrok-stable-linux-amd64.zip"
      ],
      "execution_count": 16,
      "outputs": [
        {
          "output_type": "stream",
          "name": "stdout",
          "text": [
            "--2021-11-17 07:30:11--  https://bin.equinox.io/c/4VmDzA7iaHb/ngrok-stable-linux-amd64.zip\n",
            "Resolving bin.equinox.io (bin.equinox.io)... 54.237.133.81, 18.205.222.128, 52.202.168.65, ...\n",
            "Connecting to bin.equinox.io (bin.equinox.io)|54.237.133.81|:443... connected.\n",
            "HTTP request sent, awaiting response... 200 OK\n",
            "Length: 13832437 (13M) [application/octet-stream]\n",
            "Saving to: ‘ngrok-stable-linux-amd64.zip’\n",
            "\n",
            "ngrok-stable-linux- 100%[===================>]  13.19M  15.3MB/s    in 0.9s    \n",
            "\n",
            "2021-11-17 07:30:13 (15.3 MB/s) - ‘ngrok-stable-linux-amd64.zip’ saved [13832437/13832437]\n",
            "\n",
            "Archive:  ngrok-stable-linux-amd64.zip\n",
            "  inflating: ngrok                   \n"
          ]
        }
      ]
    },
    {
      "cell_type": "code",
      "metadata": {
        "colab": {
          "base_uri": "https://localhost:8080/"
        },
        "id": "pcSDtc9VEhhM",
        "outputId": "dfb2766d-f4e0-4397-aa69-560f007d1b38"
      },
      "source": [
        "get_ipython().system_raw('./ngrok http 8501 &')\n",
        "!curl -s http://localhost:4040/api/tunnels | python3 -c \\\n",
        "    'import sys, json; print(\"Execute the next cell and the go to the following URL: \" +json.load(sys.stdin)[\"tunnels\"][0][\"public_url\"])'"
      ],
      "execution_count": 32,
      "outputs": [
        {
          "output_type": "stream",
          "name": "stdout",
          "text": [
            "Execute the next cell and the go to the following URL: http://d53c-34-125-9-226.ngrok.io\n"
          ]
        }
      ]
    },
    {
      "cell_type": "code",
      "metadata": {
        "colab": {
          "base_uri": "https://localhost:8080/"
        },
        "id": "dSOtMdnIEpCi",
        "outputId": "7cd75fc4-de0f-4ae6-9bcc-72a9e5f0003c"
      },
      "source": [
        "# !streamlit run /content/iris-ml-app.py\n",
        "!streamlit run compare-models.py"
      ],
      "execution_count": 33,
      "outputs": [
        {
          "output_type": "stream",
          "name": "stdout",
          "text": [
            "\u001b[0m\n",
            "\u001b[34m\u001b[1m  You can now view your Streamlit app in your browser.\u001b[0m\n",
            "\u001b[0m\n",
            "\u001b[34m  Network URL: \u001b[0m\u001b[1mhttp://172.28.0.2:8501\u001b[0m\n",
            "\u001b[34m  External URL: \u001b[0m\u001b[1mhttp://34.125.9.226:8501\u001b[0m\n",
            "\u001b[0m\n",
            "2021-11-17 08:03:38.861 Traceback (most recent call last):\n",
            "  File \"/usr/local/lib/python3.7/dist-packages/streamlit/script_runner.py\", line 354, in _run_script\n",
            "    exec(code, module.__dict__)\n",
            "  File \"/content/drive/My Drive/4BAI/CAP-CV/deploy/compare-models.py\", line 44, in <module>\n",
            "    st.image(source_images, source_classes)\n",
            "  File \"/usr/local/lib/python3.7/dist-packages/streamlit/elements/image.py\", line 128, in image\n",
            "    output_format,\n",
            "  File \"/usr/local/lib/python3.7/dist-packages/streamlit/elements/image.py\", line 371, in marshall_images\n",
            "    image, width, clamp, channels, output_format, image_id\n",
            "  File \"/usr/local/lib/python3.7/dist-packages/streamlit/elements/image.py\", line 286, in image_to_url\n",
            "    with open(image, \"rb\") as f:\n",
            "FileNotFoundError: [Errno 2] No such file or directory: '00.03089.01397.000.png'\n",
            "\n",
            "2021-11-17 08:04:11.485 Traceback (most recent call last):\n",
            "  File \"/usr/local/lib/python3.7/dist-packages/streamlit/script_runner.py\", line 354, in _run_script\n",
            "    exec(code, module.__dict__)\n",
            "  File \"/content/drive/My Drive/4BAI/CAP-CV/deploy/compare-models.py\", line 44, in <module>\n",
            "    st.image(source_images, source_classes)\n",
            "  File \"/usr/local/lib/python3.7/dist-packages/streamlit/elements/image.py\", line 128, in image\n",
            "    output_format,\n",
            "  File \"/usr/local/lib/python3.7/dist-packages/streamlit/elements/image.py\", line 371, in marshall_images\n",
            "    image, width, clamp, channels, output_format, image_id\n",
            "  File \"/usr/local/lib/python3.7/dist-packages/streamlit/elements/image.py\", line 286, in image_to_url\n",
            "    with open(image, \"rb\") as f:\n",
            "FileNotFoundError: [Errno 2] No such file or directory: './data/00.01778.12746.090.png'\n",
            "\n",
            "2021-11-17 08:11:16.106 Traceback (most recent call last):\n",
            "  File \"/usr/local/lib/python3.7/dist-packages/streamlit/script_runner.py\", line 354, in _run_script\n",
            "    exec(code, module.__dict__)\n",
            "  File \"/content/drive/My Drive/4BAI/CAP-CV/deploy/compare-models.py\", line 44, in <module>\n",
            "    st.image(source_images, source_classes, width=\"100\")\n",
            "  File \"/usr/local/lib/python3.7/dist-packages/streamlit/elements/image.py\", line 116, in image\n",
            "    elif width <= 0:\n",
            "TypeError: '<=' not supported between instances of 'str' and 'int'\n",
            "\n",
            "\u001b[34m  Stopping...\u001b[0m\n",
            "\u001b[34m  Stopping...\u001b[0m\n"
          ]
        }
      ]
    }
  ]
}