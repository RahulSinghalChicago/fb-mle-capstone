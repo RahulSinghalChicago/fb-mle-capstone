{
  "nbformat": 4,
  "nbformat_minor": 0,
  "metadata": {
    "colab": {
      "name": "Transfer Sample DataSet Files S3 to Gdrive",
      "provenance": [],
      "collapsed_sections": [],
      "mount_file_id": "10n-FpyFgoI008xSxqpWJtd3HQ3dSqNFn",
      "authorship_tag": "ABX9TyMg34wTx8AfyBWBNnhi+pCL",
      "include_colab_link": true
    },
    "kernelspec": {
      "name": "python3",
      "display_name": "Python 3"
    },
    "language_info": {
      "name": "python"
    }
  },
  "cells": [
    {
      "cell_type": "markdown",
      "metadata": {
        "id": "view-in-github",
        "colab_type": "text"
      },
      "source": [
        "<a href=\"https://colab.research.google.com/github/RahulSinghalChicago/fb-mle-capstone/blob/main/notebooks/Transfer_Sample_DataSet_Files_S3_to_Gdrive.ipynb\" target=\"_parent\"><img src=\"https://colab.research.google.com/assets/colab-badge.svg\" alt=\"Open In Colab\"/></a>"
      ]
    },
    {
      "cell_type": "code",
      "metadata": {
        "colab": {
          "base_uri": "https://localhost:8080/"
        },
        "id": "xvQXYC7fQXNM",
        "outputId": "f316fefb-5163-4146-9896-4f5f635eb03d"
      },
      "source": [
        "from google.colab import drive\n",
        "drive.mount('/content/drive')\n",
        "%cd /content/drive/MyDrive/4BAI/CAP-CV"
      ],
      "execution_count": 1,
      "outputs": [
        {
          "output_type": "stream",
          "name": "stdout",
          "text": [
            "Drive already mounted at /content/drive; to attempt to forcibly remount, call drive.mount(\"/content/drive\", force_remount=True).\n",
            "/content/drive/MyDrive/4BAI/CAP-CV\n"
          ]
        }
      ]
    },
    {
      "cell_type": "code",
      "metadata": {
        "colab": {
          "base_uri": "https://localhost:8080/"
        },
        "id": "HgArDj1kQrY6",
        "outputId": "03ac8643-d51d-4c27-c704-8331e7e70d5a"
      },
      "source": [
        "!pip install awscli"
      ],
      "execution_count": 2,
      "outputs": [
        {
          "output_type": "stream",
          "name": "stdout",
          "text": [
            "Requirement already satisfied: awscli in /usr/local/lib/python3.7/dist-packages (1.22.6)\n",
            "Requirement already satisfied: PyYAML<5.5,>=3.10 in /usr/local/lib/python3.7/dist-packages (from awscli) (3.13)\n",
            "Requirement already satisfied: docutils<0.16,>=0.10 in /usr/local/lib/python3.7/dist-packages (from awscli) (0.15.2)\n",
            "Requirement already satisfied: s3transfer<0.6.0,>=0.5.0 in /usr/local/lib/python3.7/dist-packages (from awscli) (0.5.0)\n",
            "Requirement already satisfied: rsa<4.8,>=3.1.2 in /usr/local/lib/python3.7/dist-packages (from awscli) (4.7.2)\n",
            "Requirement already satisfied: colorama<0.4.4,>=0.2.5 in /usr/local/lib/python3.7/dist-packages (from awscli) (0.4.3)\n",
            "Requirement already satisfied: botocore==1.23.6 in /usr/local/lib/python3.7/dist-packages (from awscli) (1.23.6)\n",
            "Requirement already satisfied: jmespath<1.0.0,>=0.7.1 in /usr/local/lib/python3.7/dist-packages (from botocore==1.23.6->awscli) (0.10.0)\n",
            "Requirement already satisfied: urllib3<1.27,>=1.25.4 in /usr/local/lib/python3.7/dist-packages (from botocore==1.23.6->awscli) (1.26.7)\n",
            "Requirement already satisfied: python-dateutil<3.0.0,>=2.1 in /usr/local/lib/python3.7/dist-packages (from botocore==1.23.6->awscli) (2.8.2)\n",
            "Requirement already satisfied: six>=1.5 in /usr/local/lib/python3.7/dist-packages (from python-dateutil<3.0.0,>=2.1->botocore==1.23.6->awscli) (1.15.0)\n",
            "Requirement already satisfied: pyasn1>=0.1.3 in /usr/local/lib/python3.7/dist-packages (from rsa<4.8,>=3.1.2->awscli) (0.4.8)\n"
          ]
        }
      ]
    },
    {
      "cell_type": "markdown",
      "metadata": {
        "id": "C_kToQ1HRfpp"
      },
      "source": [
        "Create the directory /content/drive/MyDrive/config\n",
        "\n",
        "Run the following cell once\n"
      ]
    },
    {
      "cell_type": "code",
      "metadata": {
        "colab": {
          "base_uri": "https://localhost:8080/"
        },
        "id": "FspUZowMROxp",
        "outputId": "a37c873d-e60b-4d97-f1aa-3aeb92d247d2"
      },
      "source": [
        "text = '''\n",
        "[default]\n",
        "aws_access_key_id = <your access key id> \n",
        "aws_secret_access_key = <your secret access key>\n",
        "region = <your region>\n",
        "'''\n",
        "path = \"/content/drive/MyDrive/config/awscli.ini\"\n",
        "with open(path, 'w') as f:\n",
        "   f.write(text)\n",
        "!cat /content/drive/MyDrive/config/awscli.ini"
      ],
      "execution_count": 5,
      "outputs": [
        {
          "output_type": "stream",
          "name": "stdout",
          "text": [
            "\n",
            "[default]\n",
            "aws_access_key_id = <your access key id> \n",
            "aws_secret_access_key = <your secret access key>\n",
            "region = <your region>\n"
          ]
        }
      ]
    },
    {
      "cell_type": "code",
      "metadata": {
        "colab": {
          "base_uri": "https://localhost:8080/"
        },
        "id": "IvA0L-_URtVS",
        "outputId": "012df2f1-45fc-4d55-bd6d-e88bf9f248e6"
      },
      "source": [
        "import os\n",
        "!export AWS_SHARED_CREDENTIALS_FILE=/content/drive/MyDrive/config/awscli.ini\n",
        "path = \"/content/drive/My Drive/config/awscli.ini\"\n",
        "os.environ['AWS_SHARED_CREDENTIALS_FILE'] = path\n",
        "print(os.environ['AWS_SHARED_CREDENTIALS_FILE'])"
      ],
      "execution_count": 6,
      "outputs": [
        {
          "output_type": "stream",
          "name": "stdout",
          "text": [
            "/content/drive/My Drive/config/awscli.ini\n"
          ]
        }
      ]
    },
    {
      "cell_type": "code",
      "metadata": {
        "colab": {
          "base_uri": "https://localhost:8080/"
        },
        "id": "CVbRz19bR8x8",
        "outputId": "63b2c8fc-1010-4826-abb3-933fc5b355a9"
      },
      "source": [
        "!aws s3 ls s3://razaja-capstone/sample_data/sample_training_data_v3/ --human-readable --summarize"
      ],
      "execution_count": 15,
      "outputs": [
        {
          "output_type": "stream",
          "name": "stdout",
          "text": [
            "                           PRE 0/\n",
            "                           PRE 1/\n",
            "                           PRE 10/\n",
            "                           PRE 2/\n",
            "                           PRE 3/\n",
            "                           PRE 4/\n",
            "                           PRE 5/\n",
            "                           PRE 6/\n",
            "                           PRE 7/\n",
            "                           PRE 8/\n",
            "                           PRE 9/\n",
            "2021-11-16 03:36:52    0 Bytes \n",
            "\n",
            "Total Objects: 1\n",
            "   Total Size: 0 Bytes\n"
          ]
        }
      ]
    },
    {
      "cell_type": "code",
      "metadata": {
        "id": "lUdbZNUwWbme"
      },
      "source": [
        "!aws s3 sync s3://razaja-capstone/sample_data/sample_training_data_v3/ . > out.log &"
      ],
      "execution_count": 31,
      "outputs": []
    },
    {
      "cell_type": "code",
      "metadata": {
        "id": "W38c8YfrXCzC"
      },
      "source": [
        "more out.log"
      ],
      "execution_count": 13,
      "outputs": []
    },
    {
      "cell_type": "code",
      "metadata": {
        "id": "RQ7OY00dMeAC"
      },
      "source": [
        ""
      ],
      "execution_count": null,
      "outputs": []
    }
  ]
}