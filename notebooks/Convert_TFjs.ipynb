{
  "nbformat": 4,
  "nbformat_minor": 0,
  "metadata": {
    "colab": {
      "name": "Convert TFjs",
      "provenance": [],
      "collapsed_sections": [],
      "mount_file_id": "19TD1T5w2yOI9JvXCFg8L9YdkENIxnzxw",
      "authorship_tag": "ABX9TyNUrySl5cLkZuLGSZmLUegZ",
      "include_colab_link": true
    },
    "kernelspec": {
      "name": "python3",
      "display_name": "Python 3"
    },
    "language_info": {
      "name": "python"
    }
  },
  "cells": [
    {
      "cell_type": "markdown",
      "metadata": {
        "id": "view-in-github",
        "colab_type": "text"
      },
      "source": [
        "<a href=\"https://colab.research.google.com/github/RahulSinghalChicago/fb-mle-capstone/blob/main/notebooks/Convert_TFjs.ipynb\" target=\"_parent\"><img src=\"https://colab.research.google.com/assets/colab-badge.svg\" alt=\"Open In Colab\"/></a>"
      ]
    },
    {
      "cell_type": "markdown",
      "metadata": {
        "id": "VjmA7PF4AljO"
      },
      "source": [
        "Following the steps outlined on this tutorial page.\n",
        "\n",
        "\n",
        "https://blog.tensorflow.org/2018/07/train-model-in-tfkeras-with-colab-and-run-in-browser-tensorflowjs.html"
      ]
    },
    {
      "cell_type": "code",
      "metadata": {
        "colab": {
          "base_uri": "https://localhost:8080/"
        },
        "id": "d6gEb7DK_QJC",
        "outputId": "bc034116-e7e2-4efc-f628-a34a01046c67"
      },
      "source": [
        "!pip install tensorflowjs --quiet"
      ],
      "execution_count": 2,
      "outputs": [
        {
          "output_type": "stream",
          "name": "stdout",
          "text": [
            "\u001b[?25l\r\u001b[K     |█████                           | 10 kB 18.2 MB/s eta 0:00:01\r\u001b[K     |██████████▏                     | 20 kB 21.6 MB/s eta 0:00:01\r\u001b[K     |███████████████▎                | 30 kB 28.0 MB/s eta 0:00:01\r\u001b[K     |████████████████████▎           | 40 kB 33.2 MB/s eta 0:00:01\r\u001b[K     |█████████████████████████▍      | 51 kB 20.3 MB/s eta 0:00:01\r\u001b[K     |██████████████████████████████▌ | 61 kB 13.8 MB/s eta 0:00:01\r\u001b[K     |████████████████████████████████| 64 kB 2.1 MB/s \n",
            "\u001b[?25h"
          ]
        }
      ]
    },
    {
      "cell_type": "code",
      "metadata": {
        "colab": {
          "base_uri": "https://localhost:8080/"
        },
        "id": "n6S6NeNb_dID",
        "outputId": "28de125d-1ef1-4ddb-8e75-06d5d7f32456"
      },
      "source": [
        "%cd /content/drive/MyDrive/4BAI/CAP-CV/deploy/models"
      ],
      "execution_count": 5,
      "outputs": [
        {
          "output_type": "stream",
          "name": "stdout",
          "text": [
            "/content/drive/MyDrive/4BAI/CAP-CV/deploy/models\n"
          ]
        }
      ]
    },
    {
      "cell_type": "code",
      "metadata": {
        "colab": {
          "base_uri": "https://localhost:8080/"
        },
        "id": "6VFflo83_lE2",
        "outputId": "d500578d-b23b-42f8-d70f-b0dcaafa6730"
      },
      "source": [
        "!ls -l"
      ],
      "execution_count": 11,
      "outputs": [
        {
          "output_type": "stream",
          "name": "stdout",
          "text": [
            "total 723718\n",
            "-rw------- 1 root root 314085200 Nov 17 21:31 0_zero_five_resnet50_model.hdf5\n",
            "-rw------- 1 root root  48949872 Nov 17 21:44 1_zero_five_mobilenetv2_model.hdf5\n",
            "-rw------- 1 root root  14951572 Nov 18 07:44 1_zero_five_mobilenetv2_model_tfjs.zip\n",
            "-rw------- 1 root root 314115224 Nov 17 21:44 2_zero_ten_resnet50_model.hdf5\n",
            "-rw------- 1 root root  48979872 Nov 17 21:44 3_zero_ten_mobilenetv2_model.hdf5\n",
            "drwx------ 2 root root      4096 Nov 18 07:43 tfjs\n"
          ]
        }
      ]
    },
    {
      "cell_type": "code",
      "metadata": {
        "id": "_p5H9Jon_oet"
      },
      "source": [
        "!tensorflowjs_converter --input_format keras 1_zero_five_mobilenetv2_model.hdf5 tfjs/"
      ],
      "execution_count": 8,
      "outputs": []
    },
    {
      "cell_type": "code",
      "metadata": {
        "colab": {
          "base_uri": "https://localhost:8080/"
        },
        "id": "Z0x0getrAB-T",
        "outputId": "30bb1c85-b3ce-44de-e7b9-8a1317d31dbe"
      },
      "source": [
        "!zip -r 1_zero_five_mobilenetv2_model_tfjs.zip tfjs"
      ],
      "execution_count": 10,
      "outputs": [
        {
          "output_type": "stream",
          "name": "stdout",
          "text": [
            "  adding: tfjs/ (stored 0%)\n",
            "  adding: tfjs/group1-shard1of4.bin (deflated 7%)\n",
            "  adding: tfjs/group1-shard2of4.bin (deflated 7%)\n",
            "  adding: tfjs/group1-shard3of4.bin (deflated 8%)\n",
            "  adding: tfjs/group1-shard4of4.bin (deflated 8%)\n",
            "  adding: tfjs/model.json (deflated 95%)\n"
          ]
        }
      ]
    }
  ]
}